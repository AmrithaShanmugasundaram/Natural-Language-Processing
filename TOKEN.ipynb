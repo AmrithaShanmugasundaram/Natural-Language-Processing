{
 "cells": [
  {
   "cell_type": "code",
   "execution_count": 2,
   "id": "2d58d026",
   "metadata": {},
   "outputs": [
    {
     "name": "stdout",
     "output_type": "stream",
     "text": [
      "Requirement already satisfied: nltk in c:\\programdata\\anaconda3\\lib\\site-packages (3.8.1)\n",
      "Requirement already satisfied: click in c:\\programdata\\anaconda3\\lib\\site-packages (from nltk) (8.0.4)\n",
      "Requirement already satisfied: joblib in c:\\programdata\\anaconda3\\lib\\site-packages (from nltk) (1.2.0)\n",
      "Requirement already satisfied: regex>=2021.8.3 in c:\\programdata\\anaconda3\\lib\\site-packages (from nltk) (2022.7.9)\n",
      "Requirement already satisfied: tqdm in c:\\programdata\\anaconda3\\lib\\site-packages (from nltk) (4.65.0)\n",
      "Requirement already satisfied: colorama in c:\\programdata\\anaconda3\\lib\\site-packages (from click->nltk) (0.4.6)\n",
      "Note: you may need to restart the kernel to use updated packages.\n"
     ]
    }
   ],
   "source": [
    "pip install --user -U nltk"
   ]
  },
  {
   "cell_type": "markdown",
   "id": "54d1cdcb",
   "metadata": {},
   "source": [
    "# STEMMING"
   ]
  },
  {
   "cell_type": "code",
   "execution_count": 1,
   "id": "661e4190",
   "metadata": {},
   "outputs": [
    {
     "data": {
      "text/plain": [
       "'write'"
      ]
     },
     "execution_count": 1,
     "metadata": {},
     "output_type": "execute_result"
    }
   ],
   "source": [
    "#word into their root form\n",
    "import nltk\n",
    "from nltk.stem import PorterStemmer\n",
    "word=PorterStemmer()\n",
    "w1=word.stem('writing')\n",
    "w1"
   ]
  },
  {
   "cell_type": "code",
   "execution_count": 10,
   "id": "5925d17c",
   "metadata": {},
   "outputs": [
    {
     "name": "stdout",
     "output_type": "stream",
     "text": [
      "as,we,know,that,nlp,is,use,to,build,applic,such,as,sentiment,analysis,,qa,systems,,languag,translat,"
     ]
    }
   ],
   "source": [
    "import nltk\n",
    "from nltk.stem import PorterStemmer\n",
    "word=PorterStemmer()\n",
    "l=[]\n",
    "w1=\"As we know that NLP is used to build applications such as sentiment analysis, QA systems, language translation\"\n",
    "words=w1.split()\n",
    "for i in words:\n",
    "    word_stemmed=word.stem(i)\n",
    "    l.append(word_stemmed)\n",
    "for i in range(len(l)):\n",
    "    print(l[i], end=',')"
   ]
  },
  {
   "cell_type": "markdown",
   "id": "a639ce5c",
   "metadata": {},
   "source": [
    "# TOKEN"
   ]
  },
  {
   "cell_type": "code",
   "execution_count": 23,
   "id": "f6a72a68",
   "metadata": {},
   "outputs": [
    {
     "name": "stdout",
     "output_type": "stream",
     "text": [
      "['As', 'we', 'know', 'that', 'NLP', 'is', 'used', 'to', 'build', 'applications', 'such', 'as', 'sentiment', 'analysis', ',', 'QA', 'systems', ',', 'language', 'translation'],"
     ]
    }
   ],
   "source": [
    "from nltk.tokenize import word_tokenize\n",
    "w1='As we know that NLP is used to build applications such as sentiment analysis, QA systems, language translation'\n",
    "word=word_tokenize(w1)\n",
    "print(word, end=',')"
   ]
  },
  {
   "cell_type": "code",
   "execution_count": 18,
   "id": "2dbca2d4",
   "metadata": {},
   "outputs": [
    {
     "name": "stdout",
     "output_type": "stream",
     "text": [
      "['as', 'we', 'know', 'that', 'nlp', 'is', 'use', 'to', 'build', 'applic', 'such', 'as', 'sentiment', 'analysi', ',', 'qa', 'system', ',', 'languag', 'translat']\n"
     ]
    }
   ],
   "source": [
    "from nltk.tokenize import word_tokenize\n",
    "from nltk.stem import PorterStemmer\n",
    "w1='As we know that NLP is used to build applications such as sentiment analysis, QA systems, language translation'\n",
    "words=word_tokenize(w1)\n",
    "stemer=PorterStemmer()\n",
    "#h1=stemer.stem(words)\n",
    "h1=[]\n",
    "for i in words:\n",
    "    l=stemer.stem(i)\n",
    "    h1.append(l)\n",
    "print(h1)"
   ]
  },
  {
   "cell_type": "code",
   "execution_count": 21,
   "id": "d397fb93",
   "metadata": {},
   "outputs": [
    {
     "name": "stdout",
     "output_type": "stream",
     "text": [
      "['In', 'grammar', ',', 'an', 'article', 'is', 'any', 'member', 'of', 'a', 'class', 'of', 'dedicated', 'words', 'that', 'are', 'used', 'with', 'noun', 'phrases', 'to', 'mark', 'the', 'identifiability', 'of', 'the', 'referents', 'of', 'the', 'noun', 'phrases', '.', 'The', 'category', 'of', 'articles', 'constitutes', 'a', 'part', 'of', 'speech.do', \"n't\", 'known'],"
     ]
    }
   ],
   "source": [
    "f=open(\"art.txt\",'r')\n",
    "l=word_tokenize(f.read())\n",
    "print(l, end=',')"
   ]
  },
  {
   "cell_type": "code",
   "execution_count": 26,
   "id": "56362573",
   "metadata": {},
   "outputs": [
    {
     "name": "stdout",
     "output_type": "stream",
     "text": [
      "['As', \"'s\", 'we', 'know', 'that', 'NLP', \"'s\", 'is', 'used', 'to', 'build', 'applications', 'such', 'as', 'sentiment', 'analysis', ',', 'QA', 'systems', ',', 'language', 'translation'],"
     ]
    }
   ],
   "source": [
    "#treebankwordtokenize-->same as word_tokenize\n",
    "from nltk.tokenize import TreebankWordTokenizer\n",
    "wrd=TreebankWordTokenizer()\n",
    "w1=\"As's we know that NLP's is used to build applications such as sentiment analysis, QA systems, language translation\"\n",
    "print(wrd.tokenize(w1), end=',')"
   ]
  },
  {
   "cell_type": "code",
   "execution_count": 27,
   "id": "2ad65137",
   "metadata": {},
   "outputs": [
    {
     "data": {
      "text/plain": [
       "['As',\n",
       " \"'\",\n",
       " 's',\n",
       " 'we',\n",
       " 'know',\n",
       " 'that',\n",
       " 'NLP',\n",
       " \"'\",\n",
       " 's',\n",
       " 'is',\n",
       " 'used',\n",
       " 'to',\n",
       " 'build',\n",
       " 'applications',\n",
       " 'such',\n",
       " 'as',\n",
       " 'sentiment',\n",
       " 'analysis',\n",
       " ',',\n",
       " 'QA',\n",
       " 'systems',\n",
       " ',',\n",
       " 'language',\n",
       " 'translation']"
      ]
     },
     "execution_count": 27,
     "metadata": {},
     "output_type": "execute_result"
    }
   ],
   "source": [
    "#wordpucttokenize-->taking one place for punctuations\n",
    "from nltk.tokenize import WordPunctTokenizer\n",
    "wrd=WordPunctTokenizer()\n",
    "w1=\"As's we know that NLP's is used to build applications such as sentiment analysis, QA systems, language translation\"\n",
    "wrd.tokenize(w1)"
   ]
  },
  {
   "cell_type": "code",
   "execution_count": null,
   "id": "f8b58c0f",
   "metadata": {},
   "outputs": [],
   "source": []
  }
 ],
 "metadata": {
  "kernelspec": {
   "display_name": "Python 3 (ipykernel)",
   "language": "python",
   "name": "python3"
  },
  "language_info": {
   "codemirror_mode": {
    "name": "ipython",
    "version": 3
   },
   "file_extension": ".py",
   "mimetype": "text/x-python",
   "name": "python",
   "nbconvert_exporter": "python",
   "pygments_lexer": "ipython3",
   "version": "3.11.5"
  }
 },
 "nbformat": 4,
 "nbformat_minor": 5
}
